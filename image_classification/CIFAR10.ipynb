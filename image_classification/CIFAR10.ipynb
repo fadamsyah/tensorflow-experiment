{
 "cells": [
  {
   "cell_type": "code",
   "execution_count": null,
   "metadata": {
    "colab": {
     "base_uri": "https://localhost:8080/"
    },
    "id": "0okux-13yLpE",
    "outputId": "e3b8994f-71db-44c6-8ddb-7e0090d21a0e"
   },
   "outputs": [],
   "source": [
    "!rm -rf tensorflow-experiment\n",
    "!git clone https://github.com/fadamsyah/tensorflow-experiment.git"
   ]
  },
  {
   "cell_type": "code",
   "execution_count": null,
   "metadata": {
    "colab": {
     "base_uri": "https://localhost:8080/"
    },
    "id": "bR7gUX1zjiPX",
    "outputId": "02afdff1-2dea-445d-9185-0a37ee437ef3"
   },
   "outputs": [],
   "source": [
    "cd tensorflow-experiment/image_classification"
   ]
  },
  {
   "cell_type": "code",
   "execution_count": null,
   "metadata": {
    "colab": {
     "base_uri": "https://localhost:8080/",
     "height": 36
    },
    "id": "g6xmx8jejj6o",
    "outputId": "cb4b7c11-611d-4071-ec0f-7e868cc10a20"
   },
   "outputs": [],
   "source": [
    "pwd"
   ]
  },
  {
   "cell_type": "code",
   "execution_count": null,
   "metadata": {
    "id": "8dxjciGQyNTF"
   },
   "outputs": [],
   "source": [
    "import numpy as np\n",
    "import tensorflow as tf\n",
    "import matplotlib.pyplot as plt\n",
    "import pandas as pd\n",
    "import math\n",
    "import os\n",
    "import shutil\n",
    "import sys\n",
    "\n",
    "from tensorflow.keras.callbacks import CSVLogger\n",
    "from tensorflow.keras import datasets\n",
    "from utils.model import AugLayer, VGG, EfficientNetB0, CheckpointCallback, CustomLRDecay, plot_history\n",
    "\n",
    "from tensorflow.keras.applications.efficientnet import preprocess_input\n",
    "\n",
    "from tensorflow.keras import Sequential\n",
    "from tensorflow.keras.models import Model\n",
    "from tensorflow.keras.layers import Input, Dense, Activation, Flatten, Add\n",
    "from tensorflow.keras.layers import Conv2D, MaxPool2D, AveragePooling2D, ZeroPadding2D, GlobalAveragePooling2D\n",
    "from tensorflow.keras.layers import BatchNormalization, Dropout\n",
    "import cv2\n",
    "\n",
    "import matplotlib.pyplot as plt"
   ]
  },
  {
   "cell_type": "code",
   "execution_count": null,
   "metadata": {
    "id": "FMuusT1BpV-b"
   },
   "outputs": [],
   "source": [
    "(X_train, y_train), (X_test, y_test) = datasets.cifar10.load_data()\n",
    "X_train, X_test = list(X_train), list(X_test)"
   ]
  },
  {
   "cell_type": "code",
   "execution_count": null,
   "metadata": {
    "id": "lLFLhJdNp-fD"
   },
   "outputs": [],
   "source": [
    "BATCH_SIZE = 1024\n",
    "EPOCHS = 50\n",
    "PATH_CHECKPOINT = './CIFAR10/checkpoint'\n",
    "PATH_CSV = './CIFAR10/training.log'\n",
    "LR_PROFILE = [0.1, 0.01, 0.005, 0.001]\n",
    "LR_EPOCHS = [15, 30, 40, EPOCHS]\n",
    "\n",
    "AUG_RESIZE= (128,128)\n",
    "AUG_CONTRAST = 0.15\n",
    "AUG_CROP = None\n",
    "AUG_FLIP = 'horizontal'\n",
    "AUG_ROT = 45.\n",
    "AUG_TRANSLATION = (0.15, 0.15)\n",
    "AUG_ZOOM = 0.15\n",
    "\n",
    "shutil.rmtree(PATH_CHECKPOINT, ignore_errors=True)\n",
    "os.makedirs(PATH_CHECKPOINT)"
   ]
  },
  {
   "cell_type": "code",
   "execution_count": null,
   "metadata": {
    "colab": {
     "base_uri": "https://localhost:8080/"
    },
    "id": "YTgUqkolpZB8",
    "outputId": "cf0c6d40-7616-40f7-e6e7-9e79f95c1ce3"
   },
   "outputs": [],
   "source": [
    "aug_layer = AugLayer(AUG_RESIZE, None, AUG_CONTRAST,\n",
    "                     AUG_CROP, AUG_FLIP, AUG_ROT,\n",
    "                     AUG_TRANSLATION, AUG_ZOOM)\n",
    "\n",
    "model = EfficientNetB0((32,32,3), 10, aug_layer, \"imagenet\", False)\n",
    "\n",
    "model.compile(optimizer=tf.keras.optimizers.SGD(momentum=0.9, nesterov=True), loss='sparse_categorical_crossentropy', metrics=['acc'])\n",
    "model.summary()"
   ]
  },
  {
   "cell_type": "code",
   "execution_count": null,
   "metadata": {
    "colab": {
     "base_uri": "https://localhost:8080/"
    },
    "id": "b0Kk7sEpsDSx",
    "outputId": "c7e6c962-37ed-4333-e69b-dce94a14f3e9"
   },
   "outputs": [],
   "source": [
    "callbacks = [#CheckpointCallback(PATH_CHECKPOINT),\n",
    "             CustomLRDecay(LR_PROFILE, LR_EPOCHS),\n",
    "                          CSVLogger(PATH_CSV)]\n",
    "\n",
    "history = model.fit(X_train, y_train,\n",
    "                    steps_per_epoch = math.ceil(X_train.shape[0] / BATCH_SIZE),\n",
    "                    validation_data=(X_test, y_test),\n",
    "                    validation_steps = math.ceil(X_test.shape[0] / BATCH_SIZE),\n",
    "                    epochs=EPOCHS,\n",
    "                    callbacks=callbacks,\n",
    "                    workers=4)"
   ]
  },
  {
   "cell_type": "code",
   "execution_count": null,
   "metadata": {
    "id": "Jpt0Val2ERCi"
   },
   "outputs": [],
   "source": [
    "model.evaluate(X_test, y_test)"
   ]
  }
 ],
 "metadata": {
  "accelerator": "GPU",
  "colab": {
   "collapsed_sections": [],
   "name": "CIFAR10.ipynb",
   "provenance": []
  },
  "kernelspec": {
   "display_name": "Python 3",
   "language": "python",
   "name": "python3"
  },
  "language_info": {
   "codemirror_mode": {
    "name": "ipython",
    "version": 3
   },
   "file_extension": ".py",
   "mimetype": "text/x-python",
   "name": "python",
   "nbconvert_exporter": "python",
   "pygments_lexer": "ipython3",
   "version": "3.7.9"
  }
 },
 "nbformat": 4,
 "nbformat_minor": 4
}
